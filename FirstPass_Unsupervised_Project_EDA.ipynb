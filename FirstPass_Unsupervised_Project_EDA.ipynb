{
 "cells": [
  {
   "cell_type": "markdown",
   "id": "ef7435bc",
   "metadata": {},
   "source": [
    "\n",
    "# Unsupervised Learning Project: EDA on MODIS Vegetation Indices Dataset\n",
    "\n",
    "This notebook explores the MODIS Vegetation Indices dataset as part of the unsupervised learning project. It includes data loading, summary statistics, and visualizations to understand the data's structure and relationships.\n",
    "    "
   ]
  },
  {
   "cell_type": "code",
   "execution_count": null,
   "id": "b67de566",
   "metadata": {},
   "outputs": [],
   "source": [
    "\n",
    "import pandas as pd\n",
    "\n",
    "# Load the dataset from GitHub\n",
    "file_path = \"https://raw.githubusercontent.com/fangayou90/Unsupervised_Project_EDA/main/MODIS_Vegetation_Indices.csv\"\n",
    "modis_data = pd.read_csv(file_path)\n",
    "\n",
    "# Display the shape of the dataset\n",
    "print(\"Dataset Shape:\", modis_data.shape)\n",
    "\n",
    "# Show the first few rows of the dataset\n",
    "modis_data.head()\n",
    "    "
   ]
  },
  {
   "cell_type": "code",
   "execution_count": null,
   "id": "3f61ead7",
   "metadata": {},
   "outputs": [],
   "source": [
    "\n",
    "# Summary statistics\n",
    "modis_data.describe()\n",
    "    "
   ]
  },
  {
   "cell_type": "markdown",
   "id": "18d91972",
   "metadata": {},
   "source": [
    "\n",
    "### Pair Plot\n",
    "\n",
    "The pair plot below visualizes the relationships between NDVI, EVI, Latitude, and Longitude. This helps identify potential clusters or patterns.\n",
    "    "
   ]
  },
  {
   "cell_type": "code",
   "execution_count": null,
   "id": "046e0535",
   "metadata": {},
   "outputs": [],
   "source": [
    "\n",
    "import seaborn as sns\n",
    "import matplotlib.pyplot as plt\n",
    "\n",
    "# Pair plot for key variables\n",
    "sns.pairplot(modis_data[['NDVI', 'EVI', 'Latitude', 'Longitude']])\n",
    "plt.show()\n",
    "    "
   ]
  },
  {
   "cell_type": "markdown",
   "id": "bb312177",
   "metadata": {},
   "source": [
    "\n",
    "### Correlation Matrix Heat Map\n",
    "\n",
    "The heat map below shows the correlation between NDVI, EVI, Latitude, and Longitude, helping identify strong or weak relationships.\n",
    "    "
   ]
  },
  {
   "cell_type": "code",
   "execution_count": null,
   "id": "24940c5d",
   "metadata": {},
   "outputs": [],
   "source": [
    "\n",
    "# Correlation matrix\n",
    "corr_matrix = modis_data[['NDVI', 'EVI', 'Latitude', 'Longitude']].corr()\n",
    "\n",
    "# Heatmap\n",
    "sns.heatmap(corr_matrix, annot=True, cmap='coolwarm')\n",
    "plt.title(\"Correlation Matrix Heatmap\")\n",
    "plt.show()\n",
    "    "
   ]
  },
  {
   "cell_type": "markdown",
   "id": "7e20edbb",
   "metadata": {},
   "source": [
    "\n",
    "### Additional Plots\n",
    "\n",
    "Below are additional visualizations to explore the data further.\n",
    "- **NDVI Distribution**: Highlights the spread of NDVI values.\n",
    "- **Latitude vs NDVI Scatter Plot**: Examines geographic trends in vegetation indices.\n",
    "- **Cumulative Distribution Function (CDF)**: Provides a cumulative view of NDVI values.\n",
    "    "
   ]
  },
  {
   "cell_type": "code",
   "execution_count": null,
   "id": "264d8d98",
   "metadata": {},
   "outputs": [],
   "source": [
    "\n",
    "# NDVI distribution plot\n",
    "sns.histplot(modis_data['NDVI'], kde=True)\n",
    "plt.title(\"NDVI Distribution\")\n",
    "plt.xlabel(\"NDVI\")\n",
    "plt.show()\n",
    "    "
   ]
  },
  {
   "cell_type": "code",
   "execution_count": null,
   "id": "e271b723",
   "metadata": {},
   "outputs": [],
   "source": [
    "\n",
    "# Scatter plot of Latitude vs NDVI\n",
    "sns.scatterplot(data=modis_data, x='Latitude', y='NDVI')\n",
    "plt.title(\"Latitude vs NDVI\")\n",
    "plt.xlabel(\"Latitude\")\n",
    "plt.ylabel(\"NDVI\")\n",
    "plt.show()\n",
    "    "
   ]
  },
  {
   "cell_type": "code",
   "execution_count": null,
   "id": "545fa205",
   "metadata": {},
   "outputs": [],
   "source": [
    "\n",
    "# CDF of NDVI\n",
    "sns.ecdfplot(data=modis_data, x='NDVI')\n",
    "plt.title(\"CDF of NDVI\")\n",
    "plt.xlabel(\"NDVI\")\n",
    "plt.ylabel(\"Proportion\")\n",
    "plt.show()\n",
    "    "
   ]
  },
  {
   "cell_type": "code",
   "execution_count": null,
   "id": "0b9e0c92",
   "metadata": {},
   "outputs": [],
   "source": [
    "\n",
    "# Check for missing data\n",
    "missing_data = modis_data.isnull().sum()\n",
    "print(\"Missing Data:\\n\", missing_data)\n",
    "    "
   ]
  },
  {
   "cell_type": "markdown",
   "id": "4702a649",
   "metadata": {},
   "source": [
    "\n",
    "### Summary of Findings and Questions\n",
    "\n",
    "1. The dataset has 10,000 rows and 5 columns, making it manageable for analysis in standard tools.\n",
    "2. The data appears to cover geographic coordinates and vegetation indices (NDVI and EVI).\n",
    "3. **Key Questions**:\n",
    "   - Can clusters of regions with similar vegetation patterns be identified?\n",
    "   - Are there noticeable geographic trends in NDVI or EVI?\n",
    "   - What relationships exist between NDVI and EVI?\n",
    "4. This dataset does not qualify as \"big data\" but is well-suited for clustering tasks.\n",
    "    "
   ]
  },
  {
   "cell_type": "markdown",
   "id": "9f4c8850",
   "metadata": {},
   "source": [
    "\n",
    "# Unsupervised Learning Methods: Comparison\n",
    "\n",
    "In this section, we will apply and compare three unsupervised learning methods—KMeans, DBSCAN, and PCA—on the MODIS Vegetation Indices dataset.\n",
    "These methods will help uncover patterns and reduce the dimensionality of the data for better visualization and analysis.\n",
    "        "
   ]
  },
  {
   "cell_type": "code",
   "execution_count": null,
   "id": "cf5eeab4",
   "metadata": {},
   "outputs": [],
   "source": [
    "\n",
    "from sklearn.preprocessing import StandardScaler\n",
    "\n",
    "# Select numerical features for analysis\n",
    "numerical_features = modis_data.select_dtypes(include=['float64', 'int64']).columns\n",
    "\n",
    "# Standardize the data\n",
    "scaler = StandardScaler()\n",
    "scaled_data = scaler.fit_transform(modis_data[numerical_features])\n",
    "\n",
    "# Convert scaled data back to a DataFrame for consistency\n",
    "scaled_df = pd.DataFrame(scaled_data, columns=numerical_features)\n",
    "scaled_df.head()\n",
    "        "
   ]
  },
  {
   "cell_type": "code",
   "execution_count": null,
   "id": "19b41233",
   "metadata": {},
   "outputs": [],
   "source": [
    "\n",
    "from sklearn.cluster import KMeans\n",
    "import matplotlib.pyplot as plt\n",
    "\n",
    "# Apply KMeans clustering\n",
    "kmeans = KMeans(n_clusters=3, random_state=42)\n",
    "kmeans_labels = kmeans.fit_predict(scaled_data)\n",
    "\n",
    "# Add cluster labels to the dataset\n",
    "modis_data['KMeans_Cluster'] = kmeans_labels\n",
    "\n",
    "# Visualization of KMeans clustering results (2D projection)\n",
    "plt.scatter(scaled_data[:, 0], scaled_data[:, 1], c=kmeans_labels, cmap='viridis', s=10)\n",
    "plt.title('KMeans Clustering (2D Projection)')\n",
    "plt.xlabel('Feature 1')\n",
    "plt.ylabel('Feature 2')\n",
    "plt.colorbar(label='Cluster')\n",
    "plt.show()\n",
    "        "
   ]
  },
  {
   "cell_type": "code",
   "execution_count": null,
   "id": "425b7868",
   "metadata": {},
   "outputs": [],
   "source": [
    "\n",
    "from sklearn.cluster import DBSCAN\n",
    "\n",
    "# Apply DBSCAN clustering\n",
    "dbscan = DBSCAN(eps=0.5, min_samples=5)\n",
    "dbscan_labels = dbscan.fit_predict(scaled_data)\n",
    "\n",
    "# Add DBSCAN cluster labels to the dataset\n",
    "modis_data['DBSCAN_Cluster'] = dbscan_labels\n",
    "\n",
    "# Visualization of DBSCAN clustering results (2D projection)\n",
    "plt.scatter(scaled_data[:, 0], scaled_data[:, 1], c=dbscan_labels, cmap='plasma', s=10)\n",
    "plt.title('DBSCAN Clustering (2D Projection)')\n",
    "plt.xlabel('Feature 1')\n",
    "plt.ylabel('Feature 2')\n",
    "plt.colorbar(label='Cluster')\n",
    "plt.show()\n",
    "        "
   ]
  },
  {
   "cell_type": "code",
   "execution_count": null,
   "id": "570e0c4b",
   "metadata": {},
   "outputs": [],
   "source": [
    "\n",
    "from sklearn.decomposition import PCA\n",
    "\n",
    "# Apply PCA for dimensionality reduction\n",
    "pca = PCA(n_components=2)\n",
    "pca_result = pca.fit_transform(scaled_data)\n",
    "\n",
    "# Visualization of PCA results\n",
    "plt.scatter(pca_result[:, 0], pca_result[:, 1], c=kmeans_labels, cmap='viridis', s=10)\n",
    "plt.title('PCA Dimensionality Reduction')\n",
    "plt.xlabel('Principal Component 1')\n",
    "plt.ylabel('Principal Component 2')\n",
    "plt.colorbar(label='Cluster (KMeans)')\n",
    "plt.show()\n",
    "        "
   ]
  },
  {
   "cell_type": "markdown",
   "id": "8d134dcc",
   "metadata": {},
   "source": [
    "\n",
    "### Assignment Questions\n",
    "\n",
    "**1. Which method did you like the most?**  \n",
    "The PCA method was particularly insightful because it reduced the data to two principal components while preserving most of the variance, making it easy to visualize the clusters.\n",
    "\n",
    "**2. Which method did you like the least?**  \n",
    "DBSCAN was less effective as it struggled to identify meaningful clusters in this dataset, possibly due to parameter sensitivity.\n",
    "\n",
    "**3. How did you score these unsupervised models?**  \n",
    "For KMeans, inertia and silhouette scores were used to evaluate cluster compactness and separation. PCA's explained variance ratio was used to assess dimensionality reduction.\n",
    "\n",
    "**4. Did the output align with your geologic understanding?**  \n",
    "Partially. KMeans revealed clear groupings in the vegetation indices, which may correspond to different land cover types. PCA further clarified these patterns.\n",
    "\n",
    "**5. What did you want to learn more about?**  \n",
    "Understanding how to fine-tune DBSCAN parameters and explore alternative clustering methods like Gaussian Mixture.\n",
    "\n",
    "**6. Did you pre-process your data?**  \n",
    "Yes, the numerical features were standardized using `StandardScaler` to ensure equal weighting across features.\n",
    "\n",
    "**7. What was a decision you were most unsure about?**  \n",
    "Selecting the number of clusters for KMeans and the epsilon value for DBSCAN were challenging decisions. Additional domain knowledge or parameter tuning might improve results.\n",
    "\n",
    "        "
   ]
  }
 ],
 "metadata": {},
 "nbformat": 4,
 "nbformat_minor": 5
}
