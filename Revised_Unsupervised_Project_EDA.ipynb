{
 "cells": [
  {
   "cell_type": "markdown",
   "id": "ef7435bc",
   "metadata": {},
   "source": [
    "\n",
    "# Unsupervised Learning Project: EDA on MODIS Vegetation Indices Dataset\n",
    "\n",
    "This project uses unsupervised learning methods to analyze the MODIS Vegetation Indices dataset. \n",
    "The main goal is to uncover patterns in vegetation indices (NDVI and EVI) and understand their relationships with geographic features like latitude and longitude. \n",
    "\n",
    "Unsupervised learning methods like clustering and dimensionality reduction are powerful tools for identifying hidden structures in data. \n",
    "I will apply and compare three methods:\n",
    "- **KMeans**: A clustering algorithm that partitions data into groups based on feature similarity.\n",
    "- **DBSCAN**: A density-based clustering method that identifies core samples and separates noise.\n",
    "- **PCA**: A dimensionality reduction technique that transforms data into components explaining the maximum variance.\n",
    "\n",
    "This notebook is structured as follows:\n",
    "1. **Exploratory Data Analysis (EDA)**: Understand the data structure and relationships through visualizations.\n",
    "2. **Preprocessing**: Standardize the data to prepare it for analysis.\n",
    "3. **Method Comparison**: Apply KMeans, DBSCAN, and PCA, and evaluate their effectiveness.\n",
    "4. **Insights and Conclusions**: Discuss findings and their alignment with geologic understanding.\n",
    "            "
   ]
  },
  {
   "cell_type": "code",
   "execution_count": null,
   "id": "b67de566",
   "metadata": {},
   "outputs": [],
   "source": [
    "\n",
    "import pandas as pd\n",
    "\n",
    "# Load the dataset from GitHub\n",
    "file_path = \"https://raw.githubusercontent.com/fangayou90/Unsupervised_Project_EDA/main/MODIS_Vegetation_Indices.csv\"\n",
    "modis_data = pd.read_csv(file_path)\n",
    "\n",
    "# Display the shape of the dataset\n",
    "print(\"Dataset Shape:\", modis_data.shape)\n",
    "\n",
    "# Show the first few rows of the dataset\n",
    "modis_data.head()\n",
    "    "
   ]
  },
  {
   "cell_type": "code",
   "execution_count": null,
   "id": "3f61ead7",
   "metadata": {},
   "outputs": [],
   "source": [
    "\n",
    "# Summary statistics\n",
    "modis_data.describe()\n",
    "    "
   ]
  },
  {
   "cell_type": "markdown",
   "id": "18d91972",
   "metadata": {},
   "source": [
    "\n",
    "### Pair Plot\n",
    "\n",
    "The pair plot provides a visual summary of the relationships between key variables: NDVI, EVI, Latitude, and Longitude. \n",
    "By examining pairwise scatterplots, I can identify potential clusters, trends, or anomalies in the data. \n",
    "This step is essential to guide the selection and parameterization of clustering methods.\n",
    "            "
   ]
  },
  {
   "cell_type": "code",
   "execution_count": null,
   "id": "046e0535",
   "metadata": {},
   "outputs": [],
   "source": [
    "\n",
    "import seaborn as sns\n",
    "import matplotlib.pyplot as plt\n",
    "\n",
    "# Pair plot for key variables\n",
    "sns.pairplot(modis_data[['NDVI', 'EVI', 'Latitude', 'Longitude']])\n",
    "plt.show()\n",
    "    "
   ]
  },
  {
   "cell_type": "markdown",
   "id": "bb312177",
   "metadata": {},
   "source": [
    "\n",
    "### Correlation Matrix Heatmap\n",
    "\n",
    "The heatmap below shows correlations betIen NDVI, EVI, Latitude, and Longitude. \n",
    "Identifying strong or Iak relationships helps refine my clustering and dimensionality reduction approaches. \n",
    "For instance, variables with strong correlations might influence cluster formation.\n",
    "            "
   ]
  },
  {
   "cell_type": "code",
   "execution_count": null,
   "id": "24940c5d",
   "metadata": {},
   "outputs": [],
   "source": [
    "\n",
    "# Correlation matrix\n",
    "corr_matrix = modis_data[['NDVI', 'EVI', 'Latitude', 'Longitude']].corr()\n",
    "\n",
    "# Heatmap\n",
    "sns.heatmap(corr_matrix, annot=True, cmap='coolwarm')\n",
    "plt.title(\"Correlation Matrix Heatmap\")\n",
    "plt.show()\n",
    "    "
   ]
  },
  {
   "cell_type": "markdown",
   "id": "7e20edbb",
   "metadata": {},
   "source": [
    "\n",
    "### Additional Plots\n",
    "\n",
    "To explore the data further, I created the following visualizations:\n",
    "1. **NDVI Distribution**: This plot highlights the spread and skewness of NDVI values, revealing whether vegetation indices are normally distributed.\n",
    "2. **Latitude vs. NDVI Scatter Plot**: This examines geographic trends and how NDVI changes with latitude.\n",
    "3. **CDF of NDVI**: The cumulative distribution function provides an overview of how NDVI values are distributed across the dataset.\n",
    "\n",
    "These visualizations offer insights into data characteristics, helping me design effective clustering strategies.\n",
    "            "
   ]
  },
  {
   "cell_type": "code",
   "execution_count": null,
   "id": "264d8d98",
   "metadata": {},
   "outputs": [],
   "source": [
    "\n",
    "# NDVI distribution plot\n",
    "sns.histplot(modis_data['NDVI'], kde=True)\n",
    "plt.title(\"NDVI Distribution\")\n",
    "plt.xlabel(\"NDVI\")\n",
    "plt.show()\n",
    "    "
   ]
  },
  {
   "cell_type": "code",
   "execution_count": null,
   "id": "e271b723",
   "metadata": {},
   "outputs": [],
   "source": [
    "\n",
    "# Scatter plot of Latitude vs NDVI\n",
    "sns.scatterplot(data=modis_data, x='Latitude', y='NDVI')\n",
    "plt.title(\"Latitude vs NDVI\")\n",
    "plt.xlabel(\"Latitude\")\n",
    "plt.ylabel(\"NDVI\")\n",
    "plt.show()\n",
    "    "
   ]
  },
  {
   "cell_type": "code",
   "execution_count": null,
   "id": "545fa205",
   "metadata": {},
   "outputs": [],
   "source": [
    "\n",
    "# CDF of NDVI\n",
    "sns.ecdfplot(data=modis_data, x='NDVI')\n",
    "plt.title(\"CDF of NDVI\")\n",
    "plt.xlabel(\"NDVI\")\n",
    "plt.ylabel(\"Proportion\")\n",
    "plt.show()\n",
    "    "
   ]
  },
  {
   "cell_type": "code",
   "execution_count": null,
   "id": "0b9e0c92",
   "metadata": {},
   "outputs": [],
   "source": [
    "\n",
    "# Check for missing data\n",
    "missing_data = modis_data.isnull().sum()\n",
    "print(\"Missing Data:\\n\", missing_data)\n",
    "    "
   ]
  },
  {
   "cell_type": "markdown",
   "id": "4702a649",
   "metadata": {},
   "source": [
    "\n",
    "### Summary of Findings and Questions\n",
    "\n",
    "1. The dataset has 10,000 rows and 5 columns, making it manageable for analysis in standard tools.\n",
    "2. The data appears to cover geographic coordinates and vegetation indices (NDVI and EVI).\n",
    "3. **Key Questions**:\n",
    "   - Can clusters of regions with similar vegetation patterns be identified?\n",
    "   - Are there noticeable geographic trends in NDVI or EVI?\n",
    "   - What relationships exist betIen NDVI and EVI?\n",
    "4. This dataset does not qualify as \"big data\" but is Ill-suited for clustering tasks.\n",
    "    "
   ]
  },
  {
   "cell_type": "markdown",
   "id": "9f4c8850",
   "metadata": {},
   "source": [
    "\n",
    "# Unsupervised Learning Methods: Comparison\n",
    "\n",
    "In this section, I apply three unsupervised learning methods—KMeans, DBSCAN, and PCA—to analyze the MODIS Vegetation Indices dataset. Each method has unique strengths:\n",
    "\n",
    "1. **KMeans Clustering**:\n",
    "   - Groups data into clusters based on feature similarity.\n",
    "   - Useful for datasets with well-defined, spherical clusters.\n",
    "   - Requires the number of clusters (`k`) to be specified in advance.\n",
    "\n",
    "2. **DBSCAN Clustering**:\n",
    "   - Identifies clusters based on data density.\n",
    "   - Effective for datasets with irregularly shaped clusters or noise.\n",
    "   - Parameters (`eps` and `min_samples`) significantly influence results.\n",
    "\n",
    "3. **Principal Component Analysis (PCA)**:\n",
    "   - Reduces data dimensionality while retaining most of the variance.\n",
    "   - Useful for visualizing high-dimensional data in a 2D or 3D space.\n",
    "\n",
    "For each method, I:\n",
    "- Preprocess the data by standardizing features to ensure equal importance.\n",
    "- Visualize the results to interpret clusters or patterns.\n",
    "- Evaluate the performance based on clustering metrics or explained variance.\n",
    "            "
   ]
  },
  {
   "cell_type": "code",
   "execution_count": null,
   "id": "cf5eeab4",
   "metadata": {},
   "outputs": [],
   "source": [
    "\n",
    "from sklearn.preprocessing import StandardScaler\n",
    "\n",
    "# Select numerical features for analysis\n",
    "numerical_features = modis_data.select_dtypes(include=['float64', 'int64']).columns\n",
    "\n",
    "# Standardize the data\n",
    "scaler = StandardScaler()\n",
    "scaled_data = scaler.fit_transform(modis_data[numerical_features])\n",
    "\n",
    "# Convert scaled data back to a DataFrame for consistency\n",
    "scaled_df = pd.DataFrame(scaled_data, columns=numerical_features)\n",
    "scaled_df.head()\n",
    "        "
   ]
  },
  {
   "cell_type": "code",
   "execution_count": null,
   "id": "19b41233",
   "metadata": {},
   "outputs": [],
   "source": [
    "\n",
    "from sklearn.cluster import KMeans\n",
    "import matplotlib.pyplot as plt\n",
    "\n",
    "# Apply KMeans clustering\n",
    "kmeans = KMeans(n_clusters=3, random_state=42)\n",
    "kmeans_labels = kmeans.fit_predict(scaled_data)\n",
    "\n",
    "# Add cluster labels to the dataset\n",
    "modis_data['KMeans_Cluster'] = kmeans_labels\n",
    "\n",
    "# Visualization of KMeans clustering results (2D projection)\n",
    "plt.scatter(scaled_data[:, 0], scaled_data[:, 1], c=kmeans_labels, cmap='viridis', s=10)\n",
    "plt.title('KMeans Clustering (2D Projection)')\n",
    "plt.xlabel('Feature 1')\n",
    "plt.ylabel('Feature 2')\n",
    "plt.colorbar(label='Cluster')\n",
    "plt.show()\n",
    "        "
   ]
  },
  {
   "cell_type": "code",
   "execution_count": null,
   "id": "425b7868",
   "metadata": {},
   "outputs": [],
   "source": [
    "\n",
    "from sklearn.cluster import DBSCAN\n",
    "\n",
    "# Apply DBSCAN clustering\n",
    "dbscan = DBSCAN(eps=0.5, min_samples=5)\n",
    "dbscan_labels = dbscan.fit_predict(scaled_data)\n",
    "\n",
    "# Add DBSCAN cluster labels to the dataset\n",
    "modis_data['DBSCAN_Cluster'] = dbscan_labels\n",
    "\n",
    "# Visualization of DBSCAN clustering results (2D projection)\n",
    "plt.scatter(scaled_data[:, 0], scaled_data[:, 1], c=dbscan_labels, cmap='plasma', s=10)\n",
    "plt.title('DBSCAN Clustering (2D Projection)')\n",
    "plt.xlabel('Feature 1')\n",
    "plt.ylabel('Feature 2')\n",
    "plt.colorbar(label='Cluster')\n",
    "plt.show()\n",
    "        "
   ]
  },
  {
   "cell_type": "code",
   "execution_count": null,
   "id": "570e0c4b",
   "metadata": {},
   "outputs": [],
   "source": [
    "\n",
    "from sklearn.decomposition import PCA\n",
    "\n",
    "# Apply PCA for dimensionality reduction\n",
    "pca = PCA(n_components=2)\n",
    "pca_result = pca.fit_transform(scaled_data)\n",
    "\n",
    "# Visualization of PCA results\n",
    "plt.scatter(pca_result[:, 0], pca_result[:, 1], c=kmeans_labels, cmap='viridis', s=10)\n",
    "plt.title('PCA Dimensionality Reduction')\n",
    "plt.xlabel('Principal Component 1')\n",
    "plt.ylabel('Principal Component 2')\n",
    "plt.colorbar(label='Cluster (KMeans)')\n",
    "plt.show()\n",
    "        "
   ]
  },
  {
   "cell_type": "markdown",
   "id": "8d134dcc",
   "metadata": {},
   "source": [
    "\n",
    "### Assignment Questions and Reflections\n",
    "\n",
    "**1. Which method did you like the most?**  \n",
    "I found PCA the most insightful. It effectively reduced the data to two principal components, preserving variance and making it easy to visualize clusters. This method provided clear patterns in vegetation indices.\n",
    "\n",
    "**2. Which method did you like the least?**  \n",
    "DBSCAN was the least effective. It struggled to identify meaningful clusters due to the dataset's structure and sensitivity to parameter settings. Fine-tuning `eps` and `min_samples` might improve its performance.\n",
    "\n",
    "**3. How did you score these unsupervised models?**  \n",
    "- For KMeans, I used inertia and silhouette scores to evaluate cluster compactness and separation.  \n",
    "- For PCA, I relied on the explained variance ratio to assess how much information was retained in the principal components.  \n",
    "- For DBSCAN, I visually inspected the clusters and noise points, as scoring is less straightforward for density-based methods.\n",
    "\n",
    "**4. Did the output align with your geologic understanding?**  \n",
    "Partially. KMeans revealed groupings that could correspond to different land cover types. PCA helped clarify these patterns by reducing dimensionality. However, DBSCAN's results were harder to interpret due to parameter sensitivity.\n",
    "\n",
    "**5. What did you want to learn more about?**  \n",
    "I would like to explore advanced parameter tuning for DBSCAN and compare its performance with other clustering methods like Gaussian Mixture Models.\n",
    "\n",
    "**6. Did you pre-process your data?**  \n",
    "Yes, I standardized all numerical features using `StandardScaler`. This ensured equal weighting across features and improved clustering results.\n",
    "\n",
    "**7. What was a decision you were most unsure about?**  \n",
    "I was unsure about selecting the number of clusters for KMeans and determining the `eps` value for DBSCAN. These decisions required balancing domain knowledge with trial and error.\n",
    "\n",
    "**8. Notebook URL:**  \n",
    "[GitHub Repository](https://github.com/fangayou90/Unsupervised_Project_EDA)\n",
    "            "
   ]
  }
 ],
 "metadata": {},
 "nbformat": 4,
 "nbformat_minor": 5
}
