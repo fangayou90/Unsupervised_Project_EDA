{
 "cells": [
  {
   "cell_type": "code",
   "execution_count": null,
   "id": "69648e02",
   "metadata": {},
   "outputs": [],
   "source": [
    "\n",
    "import pandas as pd\n",
    "\n",
    "# Load the dataset from GitHub\n",
    "file_path = \"https://raw.githubusercontent.com/fangayou90/Unsupervised_Project_EDA/main/MODIS_Vegetation_Indices.csv\"\n",
    "modis_data = pd.read_csv(file_path)\n",
    "\n",
    "# Display the shape of the dataset\n",
    "print(\"Dataset Shape:\", modis_data.shape)\n",
    "\n",
    "# Show the first few rows of the dataset\n",
    "modis_data.head()\n",
    "    "
   ]
  },
  {
   "cell_type": "code",
   "execution_count": null,
   "id": "17b7daca",
   "metadata": {},
   "outputs": [],
   "source": [
    "\n",
    "# Summary statistics\n",
    "modis_data.describe()\n",
    "    "
   ]
  },
  {
   "cell_type": "code",
   "execution_count": null,
   "id": "3b19914d",
   "metadata": {},
   "outputs": [],
   "source": [
    "\n",
    "import seaborn as sns\n",
    "import matplotlib.pyplot as plt\n",
    "\n",
    "# Pair plot for key variables\n",
    "sns.pairplot(modis_data[['NDVI', 'EVI', 'Latitude', 'Longitude']])\n",
    "plt.show()\n",
    "    "
   ]
  },
  {
   "cell_type": "code",
   "execution_count": null,
   "id": "a5edada6",
   "metadata": {},
   "outputs": [],
   "source": [
    "\n",
    "# Correlation matrix\n",
    "corr_matrix = modis_data[['NDVI', 'EVI', 'Latitude', 'Longitude']].corr()\n",
    "\n",
    "# Heatmap\n",
    "sns.heatmap(corr_matrix, annot=True, cmap='coolwarm')\n",
    "plt.title(\"Correlation Matrix Heatmap\")\n",
    "plt.show()\n",
    "    "
   ]
  },
  {
   "cell_type": "code",
   "execution_count": null,
   "id": "fefaa394",
   "metadata": {},
   "outputs": [],
   "source": [
    "\n",
    "# NDVI distribution plot\n",
    "sns.histplot(modis_data['NDVI'], kde=True)\n",
    "plt.title(\"NDVI Distribution\")\n",
    "plt.xlabel(\"NDVI\")\n",
    "plt.show()\n",
    "    "
   ]
  },
  {
   "cell_type": "code",
   "execution_count": null,
   "id": "bccaaca2",
   "metadata": {},
   "outputs": [],
   "source": [
    "\n",
    "# Scatter plot of Latitude vs NDVI\n",
    "sns.scatterplot(data=modis_data, x='Latitude', y='NDVI')\n",
    "plt.title(\"Latitude vs NDVI\")\n",
    "plt.xlabel(\"Latitude\")\n",
    "plt.ylabel(\"NDVI\")\n",
    "plt.show()\n",
    "    "
   ]
  },
  {
   "cell_type": "code",
   "execution_count": null,
   "id": "db7300f1",
   "metadata": {},
   "outputs": [],
   "source": [
    "\n",
    "# CDF of NDVI\n",
    "sns.ecdfplot(data=modis_data, x='NDVI')\n",
    "plt.title(\"CDF of NDVI\")\n",
    "plt.xlabel(\"NDVI\")\n",
    "plt.ylabel(\"Proportion\")\n",
    "plt.show()\n",
    "    "
   ]
  },
  {
   "cell_type": "code",
   "execution_count": null,
   "id": "edb05914",
   "metadata": {},
   "outputs": [],
   "source": [
    "\n",
    "# Check for missing data\n",
    "missing_data = modis_data.isnull().sum()\n",
    "print(\"Missing Data:\\n\", missing_data)\n",
    "    "
   ]
  },
  {
   "cell_type": "code",
   "execution_count": null,
   "id": "8fa2861a",
   "metadata": {},
   "outputs": [],
   "source": [
    "\n",
    "from sklearn.preprocessing import StandardScaler\n",
    "\n",
    "# Select numerical features for analysis\n",
    "numerical_features = modis_data.select_dtypes(include=['float64', 'int64']).columns\n",
    "\n",
    "# Standardize the data\n",
    "scaler = StandardScaler()\n",
    "scaled_data = scaler.fit_transform(modis_data[numerical_features])\n",
    "\n",
    "# Convert scaled data back to a DataFrame for consistency\n",
    "scaled_df = pd.DataFrame(scaled_data, columns=numerical_features)\n",
    "scaled_df.head()\n",
    "        "
   ]
  },
  {
   "cell_type": "code",
   "execution_count": null,
   "id": "91ded8eb",
   "metadata": {},
   "outputs": [],
   "source": [
    "\n",
    "from sklearn.cluster import KMeans\n",
    "import matplotlib.pyplot as plt\n",
    "\n",
    "# Apply KMeans clustering\n",
    "kmeans = KMeans(n_clusters=3, random_state=42)\n",
    "kmeans_labels = kmeans.fit_predict(scaled_data)\n",
    "\n",
    "# Add cluster labels to the dataset\n",
    "modis_data['KMeans_Cluster'] = kmeans_labels\n",
    "\n",
    "# Visualization of KMeans clustering results (2D projection)\n",
    "plt.scatter(scaled_data[:, 0], scaled_data[:, 1], c=kmeans_labels, cmap='viridis', s=10)\n",
    "plt.title('KMeans Clustering (2D Projection)')\n",
    "plt.xlabel('Feature 1')\n",
    "plt.ylabel('Feature 2')\n",
    "plt.colorbar(label='Cluster')\n",
    "plt.show()\n",
    "        \n",
    "\n",
    "# Added silhouette score for evaluating clustering performance\n",
    "from sklearn.metrics import silhouette_score\n",
    "silhouette_avg = silhouette_score(data_scaled, kmeans.labels_)\n",
    "print(f'Silhouette Score for KMeans: {silhouette_avg}')"
   ]
  },
  {
   "cell_type": "code",
   "execution_count": null,
   "id": "5dff9158",
   "metadata": {},
   "outputs": [],
   "source": [
    "\n",
    "from sklearn.cluster import DBSCAN\n",
    "\n",
    "# Apply DBSCAN clustering\n",
    "dbscan = DBSCAN(eps=0.5, min_samples=5)\n",
    "dbscan_labels = dbscan.fit_predict(scaled_data)\n",
    "\n",
    "# Add DBSCAN cluster labels to the dataset\n",
    "modis_data['DBSCAN_Cluster'] = dbscan_labels\n",
    "\n",
    "# Visualization of DBSCAN clustering results (2D projection)\n",
    "plt.scatter(scaled_data[:, 0], scaled_data[:, 1], c=dbscan_labels, cmap='plasma', s=10)\n",
    "plt.title('DBSCAN Clustering (2D Projection)')\n",
    "plt.xlabel('Feature 1')\n",
    "plt.ylabel('Feature 2')\n",
    "plt.colorbar(label='Cluster')\n",
    "plt.show()\n",
    "        "
   ]
  },
  {
   "cell_type": "code",
   "execution_count": null,
   "id": "e6f24f45",
   "metadata": {},
   "outputs": [],
   "source": [
    "\n",
    "from sklearn.decomposition import PCA\n",
    "\n",
    "# Apply PCA for dimensionality reduction\n",
    "pca = PCA(n_components=2)\n",
    "pca_result = pca.fit_transform(scaled_data)\n",
    "\n",
    "# Visualization of PCA results\n",
    "plt.scatter(pca_result[:, 0], pca_result[:, 1], c=kmeans_labels, cmap='viridis', s=10)\n",
    "plt.title('PCA Dimensionality Reduction')\n",
    "plt.xlabel('Principal Component 1')\n",
    "plt.ylabel('Principal Component 2')\n",
    "plt.colorbar(label='Cluster (KMeans)')\n",
    "plt.show()\n",
    "        \n",
    "\n",
    "# Added silhouette score for evaluating clustering performance\n",
    "from sklearn.metrics import silhouette_score\n",
    "silhouette_avg = silhouette_score(data_scaled, kmeans.labels_)\n",
    "print(f'Silhouette Score for KMeans: {silhouette_avg}')\n",
    "\n",
    "# Added explained variance ratio analysis for PCA\n",
    "explained_variance_ratio = pca.explained_variance_ratio_\n",
    "print(f'Explained Variance Ratio: {explained_variance_ratio}')"
   ]
  },
  {
   "cell_type": "markdown",
   "id": "56c87a2f",
   "metadata": {},
   "source": [
    "### Data Loading and Overview\n",
    "The dataset is loaded from an external source into a Pandas DataFrame. The first step involves inspecting the dataset's structure using the `.shape` and `.head()` functions. This provides insight into the number of samples (rows) and features (columns) available for analysis. Initial inspection is crucial to ensure data quality and compatibility with the planned analysis steps. For this project, the MODIS Vegetation Indices dataset contains over 1,000 samples, surpassing the minimum required for meaningful unsupervised learning. This step ensures that the dataset meets size requirements and sets the foundation for further exploration."
   ]
  },
  {
   "cell_type": "markdown",
   "id": "e95de7bf",
   "metadata": {},
   "source": [
    "### Descriptive Statistics\n",
    "Descriptive statistics provide a quick summary of the dataset's numerical features, helping to understand the central tendency, spread, and range of each variable. Metrics such as the mean, standard deviation, minimum, and maximum are computed using the `.describe()` method. These statistics are key to identifying potential outliers and understanding the overall distribution of the data. For example, the NDVI and EVI indices' ranges indicate vegetation health, which is critical for understanding patterns in this dataset. Detecting anomalies at this stage helps guide the subsequent preprocessing and visualization efforts."
   ]
  },
  {
   "cell_type": "markdown",
   "id": "685b3c44",
   "metadata": {},
   "source": [
    "### Correlation Matrix Heatmap\n",
    "A heatmap of the correlation matrix visualizes the relationships between variables in the dataset. Each cell in the heatmap represents the strength and direction of the correlation between two variables, ranging from -1 (perfect negative correlation) to +1 (perfect positive correlation). For this dataset, a strong positive correlation is observed between NDVI and EVI, which are both vegetation indices. Annotating the heatmap with numerical values further clarifies these relationships. This visualization is essential for identifying variables that may influence clustering results and for understanding inter-variable dependencies."
   ]
  },
  {
   "cell_type": "markdown",
   "id": "0dc196ae",
   "metadata": {},
   "source": [
    "### Visualization of NDVI Distribution\n",
    "Analyzing the distribution of NDVI values provides insights into the dataset's underlying structure. A histogram is used to visualize the frequency of different NDVI values, helping to identify patterns such as skewness or the presence of outliers. NDVI, which stands for Normalized Difference Vegetation Index, measures vegetation health and is a critical feature in this dataset. Understanding its distribution ensures that the clustering and dimensionality reduction methods applied later are informed by the dataset's characteristics. This step sets the stage for more detailed analysis and interpretation."
   ]
  }
 ],
 "metadata": {},
 "nbformat": 4,
 "nbformat_minor": 5
}
