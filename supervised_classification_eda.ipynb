{
 "cells": [
  {
   "cell_type": "markdown",
   "id": "ce9905fd",
   "metadata": {},
   "source": [
    "\n",
    "# Supervised Classification - Exploratory Data Analysis (EDA)\n",
    "\n",
    "## Introduction\n",
    "This notebook performs **Exploratory Data Analysis (EDA)** on a **synthetic supervised classification dataset**.  \n",
    "The dataset contains **1,000 samples** with **8 features** and a binary **target variable (0 or 1)**.\n",
    "\n",
    "### **EDA Includes:**\n",
    "- Dataset shape and summary statistics\n",
    "- Missing value checks\n",
    "- Feature distributions by class\n",
    "- Correlation heatmap\n",
    "- Outlier detection via boxplots\n",
    "- Cumulative Distribution Function (CDF)\n",
    "\n",
    "---\n"
   ]
  },
  {
   "cell_type": "code",
   "execution_count": null,
   "id": "df7e903c",
   "metadata": {},
   "outputs": [],
   "source": [
    "\n",
    "import numpy as np\n",
    "import pandas as pd\n",
    "import seaborn as sns\n",
    "import matplotlib.pyplot as plt\n",
    "from sklearn.datasets import make_classification\n",
    "\n",
    "# Generate Synthetic Classification Dataset\n",
    "X, y = make_classification(n_samples=1000, n_features=8, n_informative=5, \n",
    "                           n_redundant=2, n_classes=2, random_state=42)\n",
    "\n",
    "# Create a DataFrame\n",
    "columns = [f'Feature_{i+1}' for i in range(X.shape[1])]\n",
    "df = pd.DataFrame(X, columns=columns)\n",
    "df['Target'] = y  # Add target variable\n",
    "\n",
    "# Display dataset shape\n",
    "df.shape\n"
   ]
  },
  {
   "cell_type": "code",
   "execution_count": null,
   "id": "aa0aa69c",
   "metadata": {},
   "outputs": [],
   "source": [
    "\n",
    "# Summary statistics\n",
    "df.describe()\n"
   ]
  },
  {
   "cell_type": "code",
   "execution_count": null,
   "id": "29748d96",
   "metadata": {},
   "outputs": [],
   "source": [
    "\n",
    "# Check for missing values\n",
    "df.isnull().sum()\n"
   ]
  },
  {
   "cell_type": "code",
   "execution_count": null,
   "id": "2cd290d8",
   "metadata": {},
   "outputs": [],
   "source": [
    "\n",
    "# Correlation Matrix Heatmap\n",
    "plt.figure(figsize=(10, 6))\n",
    "sns.heatmap(df.corr(), annot=True, cmap='coolwarm', fmt=\".2f\", linewidths=0.5)\n",
    "plt.title(\"Correlation Matrix Heatmap\")\n",
    "plt.show()\n"
   ]
  },
  {
   "cell_type": "code",
   "execution_count": null,
   "id": "9dddc50c",
   "metadata": {},
   "outputs": [],
   "source": [
    "\n",
    "# Histograms & KDE plots\n",
    "plt.figure(figsize=(12, 8))\n",
    "for i, col in enumerate(df.columns[:-1], 1):\n",
    "    plt.subplot(3, 3, i)\n",
    "    sns.histplot(data=df, x=col, hue=\"Target\", kde=True, bins=30, element=\"step\")\n",
    "    plt.title(f\"Distribution of {col} by Target\")\n",
    "plt.tight_layout()\n",
    "plt.show()\n"
   ]
  },
  {
   "cell_type": "code",
   "execution_count": null,
   "id": "0e7ddf1c",
   "metadata": {},
   "outputs": [],
   "source": [
    "\n",
    "# Boxplots for Outlier Detection\n",
    "plt.figure(figsize=(12, 6))\n",
    "sns.boxplot(data=df.iloc[:, :-1])\n",
    "plt.xticks(rotation=45)\n",
    "plt.title(\"Boxplot of Features to Detect Outliers\")\n",
    "plt.show()\n"
   ]
  },
  {
   "cell_type": "code",
   "execution_count": null,
   "id": "dd09889f",
   "metadata": {},
   "outputs": [],
   "source": [
    "\n",
    "# Cumulative Distribution Function (CDF)\n",
    "plt.figure(figsize=(8, 5))\n",
    "for col in df.columns[:-1]:\n",
    "    sorted_data = np.sort(df[col])\n",
    "    cdf = np.arange(len(sorted_data)) / float(len(sorted_data))\n",
    "    plt.plot(sorted_data, cdf, label=col)\n",
    "\n",
    "plt.title(\"Cumulative Distribution Function (CDF)\")\n",
    "plt.xlabel(\"Feature Value\")\n",
    "plt.ylabel(\"Cumulative Probability\")\n",
    "plt.legend()\n",
    "plt.show()\n"
   ]
  },
  {
   "cell_type": "markdown",
   "id": "02723c24",
   "metadata": {},
   "source": [
    "\n",
    "## **Conclusion**\n",
    "- The dataset has **1,000 samples and 8 features**.\n",
    "- No missing values were found.\n",
    "- The correlation heatmap shows relationships between features.\n",
    "- Boxplots help identify potential outliers.\n",
    "- Feature distributions vary across the two classes.\n",
    "\n",
    "This completes our **Exploratory Data Analysis (EDA)** for this classification dataset. 🚀\n"
   ]
  }
 ],
 "metadata": {},
 "nbformat": 4,
 "nbformat_minor": 5
}