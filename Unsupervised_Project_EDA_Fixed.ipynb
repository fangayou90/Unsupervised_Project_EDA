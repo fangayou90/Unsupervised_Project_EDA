{
 "cells": [
  {
   "cell_type": "markdown",
   "id": "ef7435bc",
   "metadata": {},
   "source": [
    "\n",
    "# Unsupervised Learning Project: EDA on MODIS Vegetation Indices Dataset\n",
    "\n",
    "This notebook explores the MODIS Vegetation Indices dataset as part of the unsupervised learning project. It includes data loading, summary statistics, and visualizations to understand the data's structure and relationships.\n",
    "    "
   ]
  },
  {
   "cell_type": "code",
   "execution_count": null,
   "id": "b67de566",
   "metadata": {},
   "outputs": [],
   "source": [
    "\n",
    "import pandas as pd\n",
    "\n",
    "# Load the dataset from GitHub\n",
    "file_path = \"https://raw.githubusercontent.com/fangayou90/Unsupervised_Project_EDA/main/MODIS_Vegetation_Indices.csv\"\n",
    "modis_data = pd.read_csv(file_path)\n",
    "\n",
    "# Display the shape of the dataset\n",
    "print(\"Dataset Shape:\", modis_data.shape)\n",
    "\n",
    "# Show the first few rows of the dataset\n",
    "modis_data.head()\n",
    "    "
   ]
  },
  {
   "cell_type": "code",
   "execution_count": null,
   "id": "3f61ead7",
   "metadata": {},
   "outputs": [],
   "source": [
    "\n",
    "# Summary statistics\n",
    "modis_data.describe()\n",
    "    "
   ]
  },
  {
   "cell_type": "markdown",
   "id": "18d91972",
   "metadata": {},
   "source": [
    "\n",
    "### Pair Plot\n",
    "\n",
    "The pair plot below visualizes the relationships between NDVI, EVI, Latitude, and Longitude. This helps identify potential clusters or patterns.\n",
    "    "
   ]
  },
  {
   "cell_type": "code",
   "execution_count": null,
   "id": "046e0535",
   "metadata": {},
   "outputs": [],
   "source": [
    "\n",
    "import seaborn as sns\n",
    "import matplotlib.pyplot as plt\n",
    "\n",
    "# Pair plot for key variables\n",
    "sns.pairplot(modis_data[['NDVI', 'EVI', 'Latitude', 'Longitude']])\n",
    "plt.show()\n",
    "    "
   ]
  },
  {
   "cell_type": "markdown",
   "id": "bb312177",
   "metadata": {},
   "source": [
    "\n",
    "### Correlation Matrix Heat Map\n",
    "\n",
    "The heat map below shows the correlation between NDVI, EVI, Latitude, and Longitude, helping identify strong or weak relationships.\n",
    "    "
   ]
  },
  {
   "cell_type": "code",
   "execution_count": null,
   "id": "24940c5d",
   "metadata": {},
   "outputs": [],
   "source": [
    "\n",
    "# Correlation matrix\n",
    "corr_matrix = modis_data[['NDVI', 'EVI', 'Latitude', 'Longitude']].corr()\n",
    "\n",
    "# Heatmap\n",
    "sns.heatmap(corr_matrix, annot=True, cmap='coolwarm')\n",
    "plt.title(\"Correlation Matrix Heatmap\")\n",
    "plt.show()\n",
    "    "
   ]
  },
  {
   "cell_type": "markdown",
   "id": "7e20edbb",
   "metadata": {},
   "source": [
    "\n",
    "### Additional Plots\n",
    "\n",
    "Below are additional visualizations to explore the data further.\n",
    "- **NDVI Distribution**: Highlights the spread of NDVI values.\n",
    "- **Latitude vs NDVI Scatter Plot**: Examines geographic trends in vegetation indices.\n",
    "- **Cumulative Distribution Function (CDF)**: Provides a cumulative view of NDVI values.\n",
    "    "
   ]
  },
  {
   "cell_type": "code",
   "execution_count": null,
   "id": "264d8d98",
   "metadata": {},
   "outputs": [],
   "source": [
    "\n",
    "# NDVI distribution plot\n",
    "sns.histplot(modis_data['NDVI'], kde=True)\n",
    "plt.title(\"NDVI Distribution\")\n",
    "plt.xlabel(\"NDVI\")\n",
    "plt.show()\n",
    "    "
   ]
  },
  {
   "cell_type": "code",
   "execution_count": null,
   "id": "e271b723",
   "metadata": {},
   "outputs": [],
   "source": [
    "\n",
    "# Scatter plot of Latitude vs NDVI\n",
    "sns.scatterplot(data=modis_data, x='Latitude', y='NDVI')\n",
    "plt.title(\"Latitude vs NDVI\")\n",
    "plt.xlabel(\"Latitude\")\n",
    "plt.ylabel(\"NDVI\")\n",
    "plt.show()\n",
    "    "
   ]
  },
  {
   "cell_type": "code",
   "execution_count": null,
   "id": "545fa205",
   "metadata": {},
   "outputs": [],
   "source": [
    "\n",
    "# CDF of NDVI\n",
    "sns.ecdfplot(data=modis_data, x='NDVI')\n",
    "plt.title(\"CDF of NDVI\")\n",
    "plt.xlabel(\"NDVI\")\n",
    "plt.ylabel(\"Proportion\")\n",
    "plt.show()\n",
    "    "
   ]
  },
  {
   "cell_type": "code",
   "execution_count": null,
   "id": "0b9e0c92",
   "metadata": {},
   "outputs": [],
   "source": [
    "\n",
    "# Check for missing data\n",
    "missing_data = modis_data.isnull().sum()\n",
    "print(\"Missing Data:\\n\", missing_data)\n",
    "    "
   ]
  },
  {
   "cell_type": "markdown",
   "id": "4702a649",
   "metadata": {},
   "source": [
    "\n",
    "### Summary of Findings and Questions\n",
    "\n",
    "1. The dataset has 10,000 rows and 5 columns, making it manageable for analysis in standard tools.\n",
    "2. The data appears to cover geographic coordinates and vegetation indices (NDVI and EVI).\n",
    "3. **Key Questions**:\n",
    "   - Can clusters of regions with similar vegetation patterns be identified?\n",
    "   - Are there noticeable geographic trends in NDVI or EVI?\n",
    "   - What relationships exist between NDVI and EVI?\n",
    "4. This dataset does not qualify as \"big data\" but is well-suited for clustering tasks.\n",
    "    "
   ]
  }
 ],
 "metadata": {},
 "nbformat": 4,
 "nbformat_minor": 5
}
